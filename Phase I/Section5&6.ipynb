{
 "cells": [
  {
   "attachments": {},
   "cell_type": "markdown",
   "id": "920bd92e",
   "metadata": {},
   "source": [
    "## $Probability\\ and\\ Statistics \\ Project $\n",
    "## $Phase1 \\ Section5$"
   ]
  },
  {
   "cell_type": "markdown",
   "id": "b514771b",
   "metadata": {},
   "source": [
    "### Theoretical 23:\n",
    "Assuming that ther are $m \\leq \\frac{n(n-1)}{2}$\n",
    " friendship among all people in this cluster and the probability of two people being friends is $p$,\n",
    " The probabality of getting all the friendship true is \n",
    " $\\frac{p^m (1-p)^{\\frac{n(n-1)}{2} - m}}{ \\sum_{k=0}^{n} C(\\frac{n(n-1)}{2},k) p^k (1-p)^{\\frac{n(n-1)}{2} - k}}$"
   ]
  },
  {
   "cell_type": "markdown",
   "id": "46318c8d",
   "metadata": {},
   "source": [
    "### Theoretical 24:\n",
    "Assuming that this time we are aware of the value of $m$, the probability will become\n",
    "$\\frac{p^m (1-p)^{\\frac{n(n-1)}{2} - m}}{ C(\\frac{n(n-1)}{2},m) p^m (1-p)^{\\frac{n(n-1)}{2} - m}} = \\frac{1}{C(\\frac{n(n-1)}{2},m)}$"
   ]
  },
  {
   "cell_type": "markdown",
   "id": "c62aa581",
   "metadata": {},
   "source": [
    "### Theoretical 25:\n",
    "Assuming that we want to foretell 20% of all friendships true and the rest of all $m$ frienships falsely is:"
   ]
  },
  {
   "attachments": {},
   "cell_type": "markdown",
   "id": "73287904",
   "metadata": {},
   "source": [
    "### Simulating 17:\n",
    "First we will define a funtion that will create and store the Adjacency matrix $A \\in \\mathbb{R}^{n \\times n}$ where each element fo the matrix is a\n",
    "$a_{i,j} \\approx Bernoulli(p)$"
   ]
  },
  {
   "cell_type": "code",
   "execution_count": 59,
   "id": "f7417764",
   "metadata": {},
   "outputs": [],
   "source": [
    "from scipy.stats import bernoulli, binom\n",
    "import numpy as np\n",
    "\n",
    "def generate_sample_bernoulli(n,p):\n",
    "    mlist = a = [[0] * n] * n\n",
    "    c2n = int(n*(n-1)/2)\n",
    "    p = 0.0034\n",
    "    c = 0\n",
    "    X = bernoulli(p)\n",
    "    X_samples = X.rvs(c2n)\n",
    "    for i in range(0, n):\n",
    "        for j in range(0, i):\n",
    "            mlist[i][j] = X_samples[c]\n",
    "            c += 1\n",
    "            mlist[j][i] = mlist[i][j]\n",
    "    return mlist\n",
    "    \n",
    "def generate_Adjacency_Bernoulli(n,p):\n",
    "    mlist = np.zeros([n,n])\n",
    "    for i in range(0,n):\n",
    "        mlist[i,i] = 0\n",
    "        for j in range(0,n):\n",
    "            mlist[j,i] = np.random.binomial(1,p)\n",
    "            mlist[j,i] = mlist[j,i]\n",
    "    return mlist\n"
   ]
  },
  {
   "cell_type": "code",
   "execution_count": 63,
   "id": "f5d2efbf",
   "metadata": {},
   "outputs": [
    {
     "data": {
      "text/plain": [
       "[1640.0,\n",
       " 1705.0,\n",
       " 1682.0,\n",
       " 1711.0,\n",
       " 1695.0,\n",
       " 1709.5,\n",
       " 1727.5,\n",
       " 1699.0,\n",
       " 1693.0,\n",
       " 1696.0]"
      ]
     },
     "execution_count": 63,
     "metadata": {},
     "output_type": "execute_result"
    }
   ],
   "source": [
    "n1 = 1000\n",
    "m1 = 3000\n",
    "p1 = 0.0034\n",
    "list1 = []\n",
    "h= 0\n",
    "for N in range(0,10):\n",
    "    Adj1 = generate_Adjacency_Bernoulli(n1,p1)\n",
    "    list1.append(sum(sum(Adj1))/2)\n",
    "    #for row in range(0, n1):\n",
    "        #if(sum(row)>L)\n",
    "        #h += Adj1[x][:].count(1)\n",
    "    \n",
    "list1"
   ]
  },
  {
   "cell_type": "code",
   "execution_count": 64,
   "id": "c51816ef",
   "metadata": {},
   "outputs": [
    {
     "name": "stdout",
     "output_type": "stream",
     "text": [
      "mean of all friendships = 1695.8\n",
      "error with respect to m = -0.7690765420450525\n"
     ]
    }
   ],
   "source": [
    "m = 3000\n",
    "mean= sum(list1)/len(list1)\n",
    "print(\"mean of all friendships = \"+str(mean))\n",
    "error = (mean-m)/mean\n",
    "print(\"error with respect to m = \"+str(error))"
   ]
  },
  {
   "cell_type": "code",
   "execution_count": 84,
   "id": "7997a0ed",
   "metadata": {},
   "outputs": [
    {
     "data": {
      "text/plain": [
       "<BarContainer object of 4 artists>"
      ]
     },
     "execution_count": 84,
     "metadata": {},
     "output_type": "execute_result"
    },
    {
     "data": {
      "image/png": "[encoded data removed]",
      "text/plain": [
       "<Figure size 640x480 with 1 Axes>"
      ]
     },
     "metadata": {},
     "output_type": "display_data"
    }
   ],
   "source": [
    "import matplotlib.pyplot as plt\n",
    "\n",
    "ss = 4\n",
    "list_ = [0,0,0,0]\n",
    "data = {}\n",
    "data[0]= 0\n",
    "data[1]=0\n",
    "data[2]=0\n",
    "data[3]=0\n",
    "for item in sum(Adj1):\n",
    "    if item<ss:\n",
    "        data[item] +=1\n",
    "        #list_[item] +=1\n",
    "\n",
    "#plt.hist(list_)\n",
    "plt.bar(data.keys(),data.values())\n",
    "plt.show()"
   ]
  },
  {
   "cell_type": "markdown",
   "id": "7b877de1",
   "metadata": {},
   "source": [
    "### Theoretical 26:\n",
    "Let $X_{ij}$ be the random variable for person $i$ and person $j$ be friends. Since all $X_{ij}$'s are all i.i.d. $X_{i,j} \\approx Bernoulli(p)$. Let the expected value of all friendships be named $M = \\mathbb{E} |edges|$ . We know that if we count all degrees of people in graph that would be: $2|edges| = \\sum_{k=0}^{n} deg(v_k)= \\sum{i=0}^{n} X_{ii} + 2\\sum_{1 \\leq i< j \\leq n} X_{i,j}$. Getting Expecrd value from both RHS and LHS implies that:\n",
    "\n",
    "$2\\mathbb{E} |edges| = 2M = \\sum_{k=0}^{n} deg(v_k)= \\sum_{i=0}^{n}\\mathbb{E}X_{ii} + 2\\sum_{1 \\leq i< j \\leq n}\\mathbb{E} X_{i,j} \\rightarrow M = \\frac{1}{2} np + C(n,2) p = \\frac{n^2 p}{2}$.\n",
    "But if we consider $X_{ii}$ to be zero then we would have :\n",
    "$M = \\frac{n(n-1)p}{2}$"
   ]
  },
  {
   "cell_type": "markdown",
   "id": "4ca33f25",
   "metadata": {},
   "source": [
    "### Simulating 18:\n",
    "In this simulating firstly, we wish to find $L$ which is the mean of all friendship of a person. Then with the help of that we will continue to find the mean of This so called \"Hamrang\" group's number.\n"
   ]
  },
  {
   "cell_type": "code",
   "execution_count": 71,
   "id": "68c3d83a",
   "metadata": {},
   "outputs": [
    {
     "data": {
      "text/plain": [
       "[151, 124, 135, 149, 131, 147, 146, 140, 141, 165]"
      ]
     },
     "execution_count": 71,
     "metadata": {},
     "output_type": "execute_result"
    }
   ],
   "source": [
    "def Hamrang_finder_by_adjmat(adj_mat):\n",
    "    counter = 0\n",
    "    n = len(adj_mat[0])\n",
    "    #L = (adj_mat).count(1)/n\n",
    "    L = sum(sum(adj_mat))/n\n",
    "    for row in adj_mat:\n",
    "        #if adj_mat[x][:].count(1)> L:\n",
    "        if (sum(row)>L):\n",
    "            counter+=1\n",
    "    return counter\n",
    "\n",
    "list2 = []\n",
    "n2 =1000\n",
    "p2 = 0.00016\n",
    "for N in range(0,10):\n",
    "    adj_mat2 = generate_Adjacency_Bernoulli(n2,p2)\n",
    "    list2.append(Hamrang_finder_by_adjmat(adj_mat2))\n",
    "list2"
   ]
  },
  {
   "cell_type": "code",
   "execution_count": 72,
   "id": "da6a3eeb",
   "metadata": {},
   "outputs": [
    {
     "name": "stdout",
     "output_type": "stream",
     "text": [
      "the mean of Hamrang group among all People is = 142.9\n"
     ]
    }
   ],
   "source": [
    "xx = sum(list2)/len(list2)\n",
    "print(\"the mean of Hamrang group among all People is = \" + str(xx))"
   ]
  },
  {
   "cell_type": "markdown",
   "id": "82310e14",
   "metadata": {},
   "source": [
    "### Theoretical 27:\n",
    "Let $Y_i$ be the number of neighbors of person $i$,since $Y_i = \\sum_{j=1}^{n} X_{i,j} \\approx Binomial(n,p)$ and $\\mathbb{E} X_{i,j} = p$ which will result in $\\mathbb{E}Y_i = \\sum_{j=1}^{n} \\mathbb{E} X_{i,j} = np = 0.016$.\n"
   ]
  },
  {
   "cell_type": "markdown",
   "id": "e0965445",
   "metadata": {},
   "source": [
    "### Theoretical 28:\n",
    "if each person is having $L$ friends on average, we choose someone randomly, then he will be \"Hamrang\" with Probavility:\n",
    "$\\sum_{i=⌊L+1⌋}^{n} C(n−1,i)p^{i}(1−p)^{n−i−1}$ Since in this case $L<1$ then $⌊L⌋=0$ which suggests:\n",
    "$z =  \\sum_{i=1}^{n} C(n−1,i)p^{i}(1−p)^{n−i−1} = (p+1−p)^{n−1} - C(n−1,0)(1−p)^{n−1} = 1−(1−p)^{n−1}$. \n",
    " Finally letting $n=1000$ and $p=0.000016$ will lead to: $z≈0.15$. So we can deduce that for each person being \"Hamrang\" is a Bernoulli random variable with parameter $z=0.15$ whcih his named $h_i$ after the $i$-th person.\n",
    " => $h_i≈Bernoulli(p=0.15)$, which finally suggest the expected value of \"Hmarang\" people among all will be : $H=\\sum_{i=1}^{n} h_i$ getting expexted value from both sides implies that : $\\mathbb{E} H = n\\mathbb{E}h_i = nz ≈147.73$\n"
   ]
  },
  {
   "cell_type": "markdown",
   "id": "0849a59d",
   "metadata": {},
   "source": [
    "### Simulating 19:\n"
   ]
  },
  {
   "cell_type": "code",
   "execution_count": 150,
   "id": "0f51084d",
   "metadata": {},
   "outputs": [],
   "source": [
    "import itertools\n",
    "# from itertools import combination\n",
    "\n",
    "def meshgrid(n):\n",
    "    i =0 \n",
    "    j =0 \n",
    "    res = [i for j in range(0,n)]\n",
    "    return res\n",
    "\n",
    "def find_subsets(set_, n):\n",
    "    res = list(itertools.combinations(set_,n))\n",
    "    return res\n",
    "\n",
    "def find_num_of_triagles(adj_mat):\n",
    "    res = 0\n",
    "    n = len(mat)\n",
    "    indices = meshgrid(n)\n",
    "    all_3sized_subsets = find_subsets(indices,3)\n",
    "    \n",
    "    \n",
    "    for x,y,z in all_3sized_subsets:\n",
    "        if ((mat[x,y] + mat[y,z] + mat[z,x] ==2)):\n",
    "                counter += 1\n",
    "    \n",
    "    return res\n",
    "    \n",
    "\n",
    "def find_num_of_taragozari(adj_mat):\n",
    "    res = 0\n",
    "    n = len(mat)\n",
    "    indexes = [i for i in range(n)]\n",
    "    all_3sized_subsets = find_subsets(indexes,3)\n",
    "    for x,y,z in all_3sized_subsets:\n",
    "        if (mat[x,y] + mat[y,z] + mat[z,x]) == 3 :\n",
    "            res += 1\n",
    "    \n",
    "    return res\n"
   ]
  },
  {
   "cell_type": "code",
   "execution_count": 151,
   "id": "97da829c",
   "metadata": {},
   "outputs": [
    {
     "name": "stdout",
     "output_type": "stream",
     "text": [
      "number of all trargozari : 10176\n",
      "number of all triangles(chains) : 0\n"
     ]
    }
   ],
   "source": [
    "# in order to save our computer we need to take a smaller n with respect to n=3000\n",
    "n3 = 300\n",
    "p3 = 0.01\n",
    "adj_mat3 = generate_Adjacency_Bernoulli(n3,p3)\n",
    "taragozari_num = find_num_of_taragozari(adj_mat3)\n",
    "triagle_num = find_num_of_triagles(adj_mat3)\n",
    "print(\"number of all trargozari : \" + str(taragozari_num))\n",
    "print(\"number of all triangles(chains) : \"+str(triagle_num))"
   ]
  },
  {
   "cell_type": "code",
   "execution_count": 120,
   "id": "53273d5e",
   "metadata": {},
   "outputs": [
    {
     "data": {
      "text/plain": [
       "[0, 0, 0, 0, 0]"
      ]
     },
     "execution_count": 120,
     "metadata": {},
     "output_type": "execute_result"
    }
   ],
   "source": [
    "n3 = 100\n",
    "p3 = 0.01\n",
    "N = 5\n",
    "taragozari = []\n",
    "zangiri = []\n",
    "for temp in range(0,N):\n",
    "    adj_mat3 = generate_Adjacency_Bernoulli(n3,p3)\n",
    "    zangiri.append(find_num_of_triagles(adj_mat3))\n",
    "    taragozari.append(find_num_of_taragozari(adj_mat3))\n",
    "taragozari"
   ]
  },
  {
   "cell_type": "code",
   "execution_count": 123,
   "id": "51c0de9b",
   "metadata": {},
   "outputs": [
    {
     "data": {
      "text/plain": [
       "[0, 0, 0, 0, 0]"
      ]
     },
     "execution_count": 123,
     "metadata": {},
     "output_type": "execute_result"
    }
   ],
   "source": [
    "zangiri"
   ]
  },
  {
   "cell_type": "code",
   "execution_count": 19,
   "id": "590e079c",
   "metadata": {},
   "outputs": [
    {
     "name": "stdout",
     "output_type": "stream",
     "text": [
      "the mean of taragozari is : 0.0\n",
      "the mean of mosalas is : 32340.0\n"
     ]
    }
   ],
   "source": [
    "tara = sum(taragozari)/len(taragozari)\n",
    "mosalas = sum(zangiri)/len(zangiri)\n",
    "print(\"the mean of taragozari is : \"+ str(tara))\n",
    "print(\"the mean of chains is : \"+ str(mosalas))"
   ]
  },
  {
   "cell_type": "markdown",
   "id": "e8e48275",
   "metadata": {},
   "source": [
    "### Simulating 20:\n",
    "First we will compute number friendship having a confied set of all vertices by this function down below. Then we will find each person's friends(neighbors) and find the friendships inside that set of friends using the function we defined. "
   ]
  },
  {
   "cell_type": "code",
   "execution_count": 36,
   "id": "a60fb7f0",
   "metadata": {},
   "outputs": [
    {
     "name": "stdout",
     "output_type": "stream",
     "text": [
      "Average friendships among the set of each person's friends = 2.0\n"
     ]
    }
   ],
   "source": [
    "def find_num_of_edges(adj_mat, vertics):\n",
    "    s = 0\n",
    "    for i in vertics:\n",
    "        for j in vertics:\n",
    "            if adj_mat[i][j] ==1 :\n",
    "                s += 1\n",
    "    return int(s/2)\n",
    "\n",
    "n4 = 1000\n",
    "p4 = 0.003\n",
    "adj_mat4 = generate_Adjacency_Bernoulli(n4,p4) \n",
    "total_relations = 0\n",
    "for i in range(n4):\n",
    "    temp_neighbors = []\n",
    "    for j in range(n4):\n",
    "        if adj_mat4[i][j] == 1:\n",
    "            temp_neighbors.append(j)\n",
    "    total_relations += find_num_of_edges(adj_mat4,temp_neighbors)\n",
    "yyy = total_relations/n4\n",
    "print(\"Average friendships among the set of each person's friends = \"+ str(yyy))"
   ]
  },
  {
   "cell_type": "markdown",
   "id": "76c517dc",
   "metadata": {},
   "source": [
    "### Simulating 21:\n",
    "In this sectio n we will use networkx library in order to find the shortest path between nodes in  the graph. The  we will find the average distance between two arbitrary vertices."
   ]
  },
  {
   "cell_type": "code",
   "execution_count": 98,
   "id": "8ccd5243",
   "metadata": {},
   "outputs": [
    {
     "name": "stdout",
     "output_type": "stream",
     "text": [
      "134.66666666666666\n"
     ]
    }
   ],
   "source": [
    "\n",
    "\n",
    "import networkx as nx\n",
    "\n",
    "n5 = 1000   # /////////////////////////////////////////////////////////// n5 = 1000\n",
    "p5 = 0.0033\n",
    "adj_mat5 = generate_Adjacency_Bernoulli(n5,p5)\n",
    "\n",
    "my_graph = nx.path_graph(n5)\n",
    "i = 0\n",
    "total_path = 0\n",
    "j =0 \n",
    "# making the graph\n",
    "while(i<n5):\n",
    "    j = i\n",
    "    if adj_mat5[i,j] ==1 :\n",
    "        my_graph.add_edge(i,j)\n",
    "        j +=1\n",
    "    i+=1\n",
    "\n",
    "# finding distances\n",
    "for i in range(0,n5):\n",
    "    for j in range(0,n5):\n",
    "        total_path += nx.shortest_path_length(my_graph, i,j)\n",
    "    \n",
    "c2n = n5*(n5 -1 )/2 \n",
    "result = total_path*2/c2n \n",
    "print(result)\n",
    "    \n",
    "    "
   ]
  },
  {
   "cell_type": "markdown",
   "id": "5a9d25d9",
   "metadata": {},
   "source": [
    "### Simulating 22:\n",
    "Here we will repeat the same thing but for 100 times ...\n",
    "i n order to find the longest path each time and finally calculate its mean(expected value)"
   ]
  },
  {
   "cell_type": "code",
   "execution_count": 91,
   "id": "03d199d7",
   "metadata": {},
   "outputs": [
    {
     "name": "stdout",
     "output_type": "stream",
     "text": [
      "The mean of longest path between two arbitrary nodes is = 2.0\n"
     ]
    }
   ],
   "source": [
    "N = 100\n",
    "n6 = 50\n",
    "p6 = 0.34\n",
    "longest_paths = []\n",
    "for i in range(n6):\n",
    "   \n",
    "    adj_mat6 = generate_Adjacency_Bernoulli(n6,p6)\n",
    "    my_gr = nx.path_graph(n6)\n",
    "    i = 0\n",
    "    while(i<n6):\n",
    "        j = i \n",
    "        while(j<n6):\n",
    "            if adj_mat6[i][j] ==1 :\n",
    "                my_gr.add_edge(i,j)\n",
    "            j +=1\n",
    "        i+=1\n",
    "temp_max =0 \n",
    "for i in range(0,n6):\n",
    "    for j in range(0,n6):\n",
    "        if nx.shortest_path_length(my_gr,i,j)> temp_max:\n",
    "            temp_max =  nx.shortest_path_length(my_gr,i,j)\n",
    "    longest_paths.append(temp_max)\n",
    "zzzz = sum(longest_paths)/len(longest_paths)\n",
    "print(\"The mean of longest path between two arbitrary nodes is = \"+ str(zzzz))\n"
   ]
  },
  {
   "cell_type": "markdown",
   "id": "f022bbc5",
   "metadata": {},
   "source": [
    "### Simulating 23:\n"
   ]
  },
  {
   "cell_type": "code",
   "execution_count": 99,
   "id": "8467fcd5",
   "metadata": {},
   "outputs": [
    {
     "data": {
      "text/plain": [
       "<BarContainer object of 19 artists>"
      ]
     },
     "execution_count": 99,
     "metadata": {},
     "output_type": "execute_result"
    },
    {
     "data": {
      "image/png": "[encoded data removed]",
      "text/plain": [
       "<Figure size 640x480 with 1 Axes>"
      ]
     },
     "metadata": {},
     "output_type": "display_data"
    }
   ],
   "source": [
    "chains_num = []\n",
    "data_input = [i*10 + 10 for i in range(19)]\n",
    "steps = (200 - 10)//10\n",
    "N = 100   # ///////////////////////////////////////////////   N =10\n",
    "p7 = p6\n",
    "LongestPaths = []\n",
    "\n",
    "for z in range(steps):\n",
    "    for _ in range(N):\n",
    "        n7 = z*10 + 10\n",
    "        adj_mat = generate_Adjacency_Bernoulli(n7,p7)\n",
    "        graph = nx.path_graph(n7)\n",
    "\n",
    "        i = 0\n",
    "        while (i < n):\n",
    "            j = i\n",
    "            while (j < n):\n",
    "                if (adj_mat[i,j] == 1):\n",
    "                    graph.add_edge(i, j)\n",
    "                j = j+1\n",
    "            i = i+1\n",
    "\n",
    "        temp_max=0\n",
    "        for i in range(n):\n",
    "            for j in range(n):\n",
    "                if( nx.shortest_path_length(graph, i, j)>temp_max):\n",
    "                    temp_max = nx.shortest_path_length(graph, i, j)\n",
    "        LongestPaths.append(temp_max)\n",
    "\n",
    "    chains_num.append(sum(LongestPaths)/len(LongestPaths))\n",
    "    \n",
    "plt.figure()\n",
    "plt.bar(data_input,chains_num)"
   ]
  },
  {
   "cell_type": "markdown",
   "id": "3dcf7149",
   "metadata": {},
   "source": [
    "as $n$ grows larger, the expected vlaue of chains will convege to 2.5"
   ]
  },
  {
   "cell_type": "markdown",
   "id": "02087091",
   "metadata": {},
   "source": [
    "### Simulation 24:"
   ]
  },
  {
   "cell_type": "code",
   "execution_count": 171,
   "id": "6bb31a38",
   "metadata": {},
   "outputs": [
    {
     "name": "stdout",
     "output_type": "stream",
     "text": [
      "number of triangles = 101.76000000000016\n"
     ]
    }
   ],
   "source": [
    "def Triangle(n,p):\n",
    "    res = 0\n",
    "    for N in range(100):\n",
    "        adj_mat = generate_Adjacency_Bernoulli(n,p)\n",
    "        res += cal_number_of_taragozari(adj_mat)\n",
    "    return res/100\n",
    "\n",
    "\n",
    "n8= 100\n",
    "p8 = 0.34\n",
    "y = 0\n",
    "x = Triangle(n8,p8)\n",
    "print(\"number of triangles = \"+str(z))"
   ]
  },
  {
   "cell_type": "markdown",
   "id": "92e0f57a",
   "metadata": {},
   "source": [
    "### Simulation 25:"
   ]
  },
  {
   "cell_type": "code",
   "execution_count": 170,
   "id": "1446c861",
   "metadata": {
    "scrolled": true
   },
   "outputs": [
    {
     "data": {
      "image/png": "[encoded data removed]",
      "text/plain": [
       "<Figure size 640x480 with 1 Axes>"
      ]
     },
     "metadata": {},
     "output_type": "display_data"
    }
   ],
   "source": [
    "def Triangle(n,p):\n",
    "    res = 0\n",
    "    for N in range(100):\n",
    "        adj_mat = generate_Adjacency_Bernoulli(n,p)\n",
    "        res += cal_number_of_taragozari(adj_mat)\n",
    "    return res/100\n",
    "\n",
    "def get_number_of_taragozari(adj_mat):\n",
    "    n = len(adj_mat)\n",
    "    res = 0\n",
    "    indices = [i for i in range(n)]\n",
    "    all_3subset = find_subsets(indices,3)\n",
    "    for x,y,z in all_3subset:\n",
    "        if mat[x,y]==1 and mat[y,z]==1 and  mat[z,x]==1 :\n",
    "            res += 1\n",
    "    return res\n",
    "\n",
    "\n",
    "y = []\n",
    "x = [i*10 + 10 for i in range(10)]\n",
    "steps = 10\n",
    "\n",
    "for t in range(steps):\n",
    "    n = t*10 + 10\n",
    "    p = 60/(n*n)\n",
    "    y.append(Triangle(n,p))\n",
    "    \n",
    "plt.scatter(x,y)\n",
    "plt.xlabel(\"n\")\n",
    "plt.ylabel(\"Triangles with respect to n\");\n",
    "plt.show()"
   ]
  },
  {
   "cell_type": "markdown",
   "id": "7346b66b",
   "metadata": {},
   "source": [
    "As you can see since $p=\\frac{60}{n^2}$ is decreasing with $n$ the probability if two peple being frrinnds is decreasing which results in less and less Expectation if triangles."
   ]
  },
  {
   "cell_type": "markdown",
   "id": "d63a7f36",
   "metadata": {},
   "source": [
    "### Simulation 26:\n"
   ]
  },
  {
   "cell_type": "code",
   "execution_count": 173,
   "id": "d8d2ce11",
   "metadata": {},
   "outputs": [
    {
     "data": {
      "image/png": "[encoded data removed]",
      "text/plain": [
       "<Figure size 640x480 with 1 Axes>"
      ]
     },
     "metadata": {},
     "output_type": "display_data"
    }
   ],
   "source": [
    "import matplotlib.pyplot as plt\n",
    "\n",
    "y2 = []\n",
    "x2 = [i*10 + 10 for i in range(10)]\n",
    "steps = 10\n",
    "p = 0.34\n",
    "for t in range(steps):\n",
    "    n = t*10 + 10\n",
    "    y2.append(Triangle(n,p))\n",
    "    \n",
    "plt.scatter(x2,y2)\n",
    "plt.xlabel(\"n\",)\n",
    "plt.ylabel(\"number of triangles\");"
   ]
  },
  {
   "cell_type": "markdown",
   "id": "410fd53a",
   "metadata": {},
   "source": [
    "it ca be deduced that if $p$ is constant, increasing of $n$ will result in rising of Expectation of number of tringles.  "
   ]
  },
  {
   "attachments": {},
   "cell_type": "markdown",
   "id": "98c416be",
   "metadata": {},
   "source": [
    "### Simulation 27:\n"
   ]
  },
  {
   "cell_type": "code",
   "execution_count": null,
   "id": "55244805",
   "metadata": {},
   "outputs": [],
   "source": [
    "y3 = []\n",
    "x3 = [i*50 + 50 for I in range(20)]\n",
    "steps = 20\n",
    "for t in range(steps):\n",
    "    n = 50*t\n",
    "y3 = []\n",
    "x3 = [i*50 + 50 for I in range(20)]\n",
    "steps = 20\n",
    "for t in range(steps):\n",
    "    n = 50*t +50\n",
    "    p = 1/n\n",
    "    y.append(Triangle(n,p))\n",
    "plt.scatter(x,y)\n",
    "plt.xlabel(\"n\")\n",
    "plt.ylabel(\"number of triangles with respect to n\")\n",
    "Xcumulate = np.cumsum(x, axis =0)\n",
    "Ycumulate = np.cumsum(y, axis =0)\n",
    "Nn = len( Ycumulate)\n",
    "for i in range(Nn):\n",
    "    Ycumulate[i] = Ycumulate[i]/Xcumulate[i]\n",
    "\n",
    "plt.scatter(Xcumulate,Ycumulate)\n",
    "plt.xlabel(\"n\")\n",
    "plt.ylabel(\"cumulative mean with respect to n\")\n"
   ]
  },
  {
   "attachments": {},
   "cell_type": "markdown",
   "id": "e9813898",
   "metadata": {},
   "source": [
    "As we an see cumulative mean goes to 0 as n grows larger and larger."
   ]
  },
  {
   "cell_type": "markdown",
   "id": "445c372e",
   "metadata": {},
   "source": [
    "### Theoretical 29:\n",
    "In taragozari($T_0$) two out of three nodes must be connected, wheras in triangle($T_1$) all nodes are connected to each other.\n",
    "$T_0 = \\mathbb{E}|taragozari| = C(n,3)C(3,2) p^2 (1-p)$ while \n",
    "$T_1 = \\mathbb{E}|triangles| = \\frac{1}{3} C(n,3) p^3 $ "
   ]
  },
  {
   "cell_type": "markdown",
   "id": "b1cbde82",
   "metadata": {},
   "source": [
    "### Theoretical 30:\n",
    "if $x,y,z$ are im a cluster and also each is connected to at least one node. The probabaility of having \"taragozai\" is :\n",
    "$\\frac{ C(n,3)C(3,2) p^2 (1-p}{ C(n,3)C(3,2) p^2 (1-p) +  C(3,n) p^3}$. However the probability of having a \"triangle\" is : $\\frac{ C(n,3) p^3}{ C(n,3)C(3,2) p^2 (1-p) + C(n,3) p^3}$"
   ]
  },
  {
   "cell_type": "markdown",
   "id": "5cabc78a",
   "metadata": {},
   "source": [
    "### Theoretical 32:\n",
    "let $u,v$ be two nodes. if we want them not having mutual friendship with person $x_k$ the probability will be $(1-p)^2$. if we want no $x_k$ have relatins with both $u,v$;since these aer independant the probabaility will become $\\mathbb{P}(I_{u,v} =1)= \n",
    "(1-p)^{2n-4}$"
   ]
  },
  {
   "cell_type": "markdown",
   "id": "56c82003",
   "metadata": {},
   "source": [
    "### Theoretical 33:\n",
    "Let $d(i)$ be the number of connected nodees to the $i$ -th person. We know that if $m = |edges|$ then $2m = \\sum_{k=0}^{n} d(k)$\n",
    "since each edge was counted twice in the summation. Let us define $\\bar{d}(i) = C(n,2) - d(i)$ which is clearly the number of disconnected nodes to the $i$-th person. We know that:\n",
    "$X_n = \\sum_{i=0}^{n} C(\\bar{d}(i) , 2) = \\frac{1}{2} \\sum_{i=0}^{n} (\\bar{d}(i)^2 -\\bar{d}) $ which taking Expectation implies that: $ \\mathbb{E} X_n = \\frac{1}{2} \\sum_{i=0}^{n} ( \\mathbb{E}\\bar{d}(i)^2 - \\mathbb{E}\\bar{d}) $. \n",
    "but we knew $ \\mathbb{E}m = \\frac{n^2p}{2} = \\frac{1}{2}  \\mathbb{E}d(i) \\rightarrow \\mathbb{E}d(i) = n^2p \\rightarrow \\mathbb{E}\\bar{d}(i) = n - n^2p $.Now comuting $\\mathbb{E}\\bar{d}(i)^2 = \\sum_{k=0}^{n} k^2 p^k (1-p)^{n-k-1} C(n-1,k) = n(n-1)p((n-2)p +1) $ which leads to $\\mathbb{E} X_n = n(n(n-1)p(n-2)p +1)) - (n- n^2 p)$\n",
    "\n"
   ]
  },
  {
   "cell_type": "markdown",
   "id": "081365f3",
   "metadata": {},
   "source": [
    "### Theoretical 34:\n",
    "using Markov inequality we can deduce that:\n",
    "$ \\mathbb{P}(X_n \\geq 1) \\geq \\frac{ \\mathbb{E} X_n }{1} =  n(n(n-1)p(n-2)p +1)) - (n- n^2 p)$"
   ]
  },
  {
   "attachments": {},
   "cell_type": "markdown",
   "id": "d0f75c29",
   "metadata": {},
   "source": [
    "## $Probability\\ and\\ Statistics \\ Project $\n",
    "## $Phase1 \\ Section6$"
   ]
  },
  {
   "cell_type": "markdown",
   "id": "facc0de5",
   "metadata": {},
   "source": [
    "### Theoretical 36:\n",
    "Here is the probavility of  going from node $i$ to node $j$ at one step $P_{i,j} = \\frac{A_{i,j}}{d(i)}$. If $A_{i,j}=0$, so does $P_{i,j}$; and if $A_{i,j}=1$ since there are $d(i)$ possible routes, $P_{i,j} = \\frac{1}{d(i)}$"
   ]
  },
  {
   "cell_type": "markdown",
   "id": "44399652",
   "metadata": {},
   "source": [
    "### Theoretical 37:\n",
    "We can rewrite $P_{i,j}$ as $P_{i,j} = \\frac{A_{i,j}}{d(i)}$ and $D$ is a diagonal matrix, we can deduce that: $ D \\times P = A \\rightarrow P = D^{-1} A \\rightarrow D P^{(t)} D^{-1} = (P^{(t)})^T$ "
   ]
  },
  {
   "cell_type": "markdown",
   "id": "1645a123",
   "metadata": {},
   "source": [
    "### Theoretical 38:\n",
    "first we consider the case $t=3$ (The base of the induction). Similar to prior aproach we obtain that: \n",
    "$[P^3]_{i,j} = \\sum_{k=0}^{n} \\sum_{s=0}^{n} P_{ik} P_{ks} P_{sj} =  \\sum_{k=0}^{n}P_{ik}\\sum_{s=0}^{n} P_{ks} P_{sj} = \n",
    "\\sum_{k=0}^{n}P_{ik} [P^2]_{k,j}$. Now we suppose that $[P^{t-1}]_{h,j}$ is the probability of going form $h$ to $j$ in $t-1$ steps. Thus we get $[P^t]_{i,j} = \\sum_{k=0}^{n}P_{ih}[P^{t-1}]_{h,j} = [P^t]_{i,j}$ . Thus the induction's step is prove since $f(3)$ is true and $f(n-1)$ will lead to $f(n)$. T"
   ]
  },
  {
   "cell_type": "markdown",
   "id": "83e6a66d",
   "metadata": {},
   "source": [
    "### Theoretical 39:\n",
    "we can deduce that $P^{t}_{ij}=\\sum_{k=1}^{n}P^{t-1}_{ik}P_{kj}$ from the proof we did in Theoretical 38."
   ]
  },
  {
   "cell_type": "markdown",
   "id": "52aa7c98",
   "metadata": {},
   "source": [
    "### Theoretical 40: \n",
    "Suppose that $ V =\\{ v_1 ,v_2, ..., v_{h-1} \\}$ are between nodes $i,j$. Moreover assume that$ v_0 = v_{h+1} = i, v_{h} =j$.\n",
    "We can deduce that in going from $i$ to $j$ =:The probability will be :\n",
    "$[P^h]_{i,j} = \\prod_{k=0}^{h} [P]_{v_{j},v_{k+1}} = \\prod_{k=0}^{h} \\frac{ A_{v_{k},v_{k+1}}}{d(v_k)}$ . The same approach for going from $j$ to $i$ will result in:\n",
    "$ [P^h]_{j,i} = \\prod_{k=0}^{h} [P]_{v_{h-k},v_{h-k-1}} = \\prod_{k=0}^{h} \\frac{ A_{v_{h-k},v_{h-k-1}}}{d(v_k)}$. which since $A_{i,j} = A_{j,i}$ will finally leads to : $\\frac{P_{ij}^{(t)}}{P_{ji}^{(t)}}=\\frac{1/d(i)}{1/d(j)}=\\frac{d(j)}{d\n",
    "(i)}$"
   ]
  },
  {
   "cell_type": "markdown",
   "id": "8c3d28f0",
   "metadata": {},
   "source": [
    "### Theoretical 41:\n",
    "Since $i,j$ are friends in the cluster, we can deduce that $[P^t]_{i,j} \\approx [P^t]_{j,k}$ . because the intersts are similar and there is good chance if the random path is similar too, then $[P^t]_{i,j} \\approx [P^t]_{j,k}$."
   ]
  },
  {
   "cell_type": "markdown",
   "id": "ad79a503",
   "metadata": {},
   "source": [
    "### Theoretical 42:\n",
    "From adding Principle we can deduce that: $P_{C_{1}, k}=\\frac{1}{\\left\\|C_{1} \\right\\|}\\sum\n",
    "_{v_{i}\\in C_{1} }P_{ik}^{(t)}$. letting this into the geiven formula implies that:\n",
    "\n",
    "$d(C_{1},C_2)= \\sqrt{\\sum_{k=0}^{n} r_{ij}^2}\n",
    "= \\sqrt{\\sum_{k=1}^{n}\\frac{(P_{C_{1}, k}-\n",
    "P_{C_{2}, k})^{2}}{d(k)}}$"
   ]
  },
  {
   "cell_type": "markdown",
   "id": "d70e1807",
   "metadata": {},
   "source": [
    "### Theoretical 43:\n",
    "We can use an aproach similar to \"K-means\" methos. Assume that the vector $X = \\{ x_1, x_2, x_3, ..,x_n\\}$ are the data we wish to cluster and $S = \\{ S_1,..,S_k\\}$ is the set of clusers. $S_k$'s must be chosen such that within-cluster sum of squares is minimized. Therefore we wish to minimize this variable $\\sum_{i=1}^{k} \\sum_{x \\in S_i} ||x -\\mu_{i}||^2$ i among all data. Thus, we get:\n",
    "$\\arg \\min_s \\sum_{i=1}^{k} \\sum_{x \\in S_i} ||x -\\mu_{i}||^2 = \\arg \\min_s \\sum_{i=1}^{k}  |S_i| Var(S_i)$ where $\\mu_{i}$ is the mean of $i$-th cluster $S_i$. So  we will continue on clustering the data if we take two arbitrary $S_i , S_j$, then the combination of these two will have larger \" within-cluster sum of squares\".\n"
   ]
  }
 ],
 "metadata": {
  "kernelspec": {
   "display_name": "Python 3",
   "language": "python",
   "name": "python3"
  },
  "language_info": {
   "codemirror_mode": {
    "name": "ipython",
    "version": 3
   },
   "file_extension": ".py",
   "mimetype": "text/x-python",
   "name": "python",
   "nbconvert_exporter": "python",
   "pygments_lexer": "ipython3",
   "version": "3.10.6 (tags/v3.10.6:9c7b4bd, Aug  1 2022, 21:53:49) [MSC v.1932 64 bit (AMD64)]"
  },
  "vscode": {
   "interpreter": {
    "hash": "92ddfa334250855030f8ffa053f5bd0b0b206734a5f6d75704f074323b7ac1d5"
   }
  }
 },
 "nbformat": 4,
 "nbformat_minor": 5
}
